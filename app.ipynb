{
 "cells": [
  {
   "cell_type": "code",
   "execution_count": null,
   "metadata": {
    "scrolled": true
   },
   "outputs": [
    {
     "name": "stdout",
     "output_type": "stream",
     "text": [
      " * Serving Flask app \"__main__\" (lazy loading)\n",
      " * Environment: production\n",
      "   WARNING: This is a development server. Do not use it in a production deployment.\n",
      "   Use a production WSGI server instead.\n",
      " * Debug mode: off\n"
     ]
    },
    {
     "name": "stderr",
     "output_type": "stream",
     "text": [
      " * Running on http://127.0.0.1:5000/ (Press CTRL+C to quit)\n",
      "127.0.0.1 - - [22/Apr/2021 11:09:08] \"\u001b[37mGET / HTTP/1.1\u001b[0m\" 200 -\n",
      "127.0.0.1 - - [22/Apr/2021 11:09:08] \"\u001b[33mGET /static/fav.ico HTTP/1.1\u001b[0m\" 404 -\n"
     ]
    },
    {
     "name": "stdout",
     "output_type": "stream",
     "text": [
      "Oops! <class 'KeyError'> occurred.\n",
      "Domain age: 209\n",
      "\n",
      "ssl start: 2021-03-26 23:20:03\n",
      "ssl end: 2021-06-24 23:20:03\n",
      "policy is DV 2.23.140.1.2.1\n",
      "days to expire: 155\n",
      "no favicon\n",
      "['CANFCU.ORG', 'canfcu.org']\n",
      "\n",
      "URL Domain  home.canfcu.org\n",
      "Whois_domain  canfcu.org\n",
      "no. of links:  1\n",
      "Query: Home Page canfcu credit us loans \n",
      "https://home.canfcu.com/\n",
      "https://www.usbank.com/loans-credit-lines/personal-loans-and-lines-of-credit.html\n",
      "https://www.americanexpress.com/us/loans/personal-loans/\n",
      "https://www.homecredit.co.in/personal-loan\n",
      "https://www.homecredit.co.in/\n",
      "https://www.mpowerfinancing.com/\n",
      "https://www.kotak.com/en.html\n",
      "https://www.icicibank.com/\n",
      "https://sbi.co.in/web/personal-banking/loans/personal-loans/xpress-credit-personal-loan\n"
     ]
    },
    {
     "name": "stderr",
     "output_type": "stream",
     "text": [
      "127.0.0.1 - - [22/Apr/2021 11:33:43] \"\u001b[37mPOST /getURL HTTP/1.1\u001b[0m\" 200 -\n"
     ]
    },
    {
     "name": "stdout",
     "output_type": "stream",
     "text": [
      "Rank: -1\n",
      "[1, 1, 1, 1, 1, 1, 1, -1, -1, -1, 1, 1, -1, -1, 1, 1, -1, -1, 1, -1, 1, -1, 0]\n",
      "ML: -1\n",
      "Content based: -1\n"
     ]
    },
    {
     "name": "stderr",
     "output_type": "stream",
     "text": [
      "127.0.0.1 - - [22/Apr/2021 11:33:43] \"\u001b[33mGET /static/fav.ico HTTP/1.1\u001b[0m\" 404 -\n",
      "127.0.0.1 - - [22/Apr/2021 11:33:54] \"\u001b[37mGET / HTTP/1.1\u001b[0m\" 200 -\n",
      "127.0.0.1 - - [22/Apr/2021 11:33:54] \"\u001b[33mGET /static/fav.ico HTTP/1.1\u001b[0m\" 404 -\n"
     ]
    },
    {
     "name": "stdout",
     "output_type": "stream",
     "text": [
      "Domain age: 6639\n",
      "\n",
      "ssl start: 2020-07-08 00:00:00\n",
      "ssl end: 2021-07-08 23:59:59\n",
      "policy is OV 2.23.140.1.2.2\n",
      "days to expire: 665\n",
      "has favicon\n",
      "CANVAS.ORG\n",
      "\n",
      "URL Domain  canvas.org\n",
      "Whois_domain  canvas.org\n",
      "no. of links:  8\n",
      "Query: Local Colorado Banking | Afford Life | Canvas Credit Union canvas canvas go in \n",
      "https://www.canvas.org/\n",
      "https://www.canvas.org/about-us/contact-us\n",
      "https://www.canvas.org/make-a-payment\n",
      "https://www.canvas.org/membership/account-services/online-mobile\n",
      "https://www.canvas.org/about-us/locations\n",
      "https://www.canvas.org/learn\n",
      "https://www.canvas.org/about-us\n",
      "https://www.canvas.org/membership\n",
      "https://www.canvas.org/personal/checking\n",
      "https://www.canvas.org/who-we-are\n"
     ]
    },
    {
     "name": "stderr",
     "output_type": "stream",
     "text": [
      "127.0.0.1 - - [22/Apr/2021 11:34:31] \"\u001b[37mPOST /getURL HTTP/1.1\u001b[0m\" 200 -\n"
     ]
    },
    {
     "name": "stdout",
     "output_type": "stream",
     "text": [
      "Query:1 Local Colorado Banking | Afford Life | Canvas Credit Union canvas canvas go in \n",
      "Rank: 79048\n",
      "[1, 1, 1, 1, 1, 1, 1, 1, 1, 1, 1, 1, -1, -1, 1, 1, 1, -1, 1, 1, 1, 1, 1]\n",
      "ML: 1\n",
      "Content based: 1\n"
     ]
    },
    {
     "name": "stderr",
     "output_type": "stream",
     "text": [
      "127.0.0.1 - - [22/Apr/2021 11:34:31] \"\u001b[33mGET /static/fav.ico HTTP/1.1\u001b[0m\" 404 -\n",
      "127.0.0.1 - - [22/Apr/2021 11:34:37] \"\u001b[37mGET / HTTP/1.1\u001b[0m\" 200 -\n",
      "127.0.0.1 - - [22/Apr/2021 11:34:37] \"\u001b[33mGET /static/fav.ico HTTP/1.1\u001b[0m\" 404 -\n"
     ]
    },
    {
     "name": "stdout",
     "output_type": "stream",
     "text": [
      "Error trying to connect to socket: closing socket\n",
      "Oops! <class 'KeyError'> occurred.\n",
      "Domain age: 0\n",
      "\n",
      "ssl start: 2021-04-21 00:00:00\n",
      "ssl end: 2022-04-21 23:59:59\n",
      "policy is DV 2.23.140.1.2.1\n",
      "days to expire: 364\n",
      "has favicon\n",
      "PAYEESECURITY.ORG\n",
      "\n",
      "URL Domain  payeesecurity.org\n",
      "Whois_domain  payeesecurity.org\n",
      "no. of links:  13\n",
      "Query: Halifax - Mobile Banking - Login payeesecurity banking mobile cookies \n",
      "https://www.halifax.co.uk/securityandprivacy/cookies.html\n",
      "https://www.halifax.co.uk/securityandprivacy.html\n",
      "https://support.mozilla.org/en-US/questions/1307345\n",
      "http://ojya.ristoranteilmedioevo.it/why-is-online-banking-not-working.html\n",
      "https://apps.apple.com/gb/app/halifax-mobile-banking/id486355738\n",
      "https://www.goodhousekeeping.com/uk/consumer-advice/money/a31939428/mobile-online-banking-coronavirus/\n",
      "https://bank.barclays.co.uk/\n",
      "https://www.openbanking.org.uk/customers/faqs/\n",
      "https://www.ybs.co.uk/help/online/index.html\n",
      "https://home.barclays/news/press-releases/2020/03/barclays-becomes-the-first-uk-high-street-bank-to-enable-custome/\n",
      "Query:1 Halifax | Security, Privacy & Cookies | Cookies Policy halifax cookies in can \n",
      "Query:2 Halifax - Online Internet Banking security - Security and Privacy halifax banking online help \n",
      " uery:3 Logon issue with Halifax Online Banking (UK) site | Firefox Support Forum | Mozilla Support mozilla firefox in \n",
      "Query:4 ristoranteilmedioevo banking online bank \n",
      "Query:5 ‎Halifax Mobile Banking on the App Store apple in banking app \n",
      "Query:6 Coronavirus: How to set up phone or online banking goodhousekeeping online banking advice \n",
      "Query:7 Step 1: Your details - Login - myBarclays barclays step 1 details \n",
      "Query:8 openbanking 403 forbidden nginx \n",
      "Query:9 My Online Account | Help & Support | YBS ybs savings mortgage life \n"
     ]
    },
    {
     "name": "stderr",
     "output_type": "stream",
     "text": [
      "127.0.0.1 - - [22/Apr/2021 11:35:50] \"\u001b[37mPOST /getURL HTTP/1.1\u001b[0m\" 200 -\n"
     ]
    },
    {
     "name": "stdout",
     "output_type": "stream",
     "text": [
      "Query:10 Barclays becomes the first UK high street bank to enable customers to make payments from current accounts held with other banks in their Barclays app | Barclays home barclays accounts app \n",
      "Rank: -1\n",
      "[1, 1, 1, 1, 1, 1, 1, -1, -1, 1, 1, 1, -1, -1, 0, 1, 1, -1, 1, -1, 1, -1, 1]\n",
      "ML: -1\n",
      "Content based: -1\n"
     ]
    },
    {
     "name": "stderr",
     "output_type": "stream",
     "text": [
      "127.0.0.1 - - [22/Apr/2021 11:35:50] \"\u001b[33mGET /static/fav.ico HTTP/1.1\u001b[0m\" 404 -\n",
      "127.0.0.1 - - [22/Apr/2021 11:36:53] \"\u001b[37mGET / HTTP/1.1\u001b[0m\" 200 -\n",
      "127.0.0.1 - - [22/Apr/2021 11:36:53] \"\u001b[33mGET /static/fav.ico HTTP/1.1\u001b[0m\" 404 -\n"
     ]
    }
   ],
   "source": [
    "from flask import Flask,render_template,request\n",
    "#import app\n",
    "import import_ipynb\n",
    "import Content_Based\n",
    "import Features_Extraction\n",
    "import rf_model\n",
    "import pickle\n",
    "import pandas as pd\n",
    "app=Flask(__name__)\n",
    "@app.route('/')\n",
    "def home():\n",
    "    return render_template('Home.html')\n",
    "\n",
    "\n",
    "def combine(m, c ,data):\n",
    "    if m == 1 and c == 1:\n",
    "        return 1\n",
    "    \n",
    "    elif m == 1 and c == -1:\n",
    "        pre_count=data.count(1)\n",
    "        if pre_count>=18:\n",
    "            print(\"ML output was preferred\")\n",
    "            return 1\n",
    "        else:\n",
    "            return -1\n",
    "        \n",
    "    elif m == -1 and c == 1:\n",
    "        return -1\n",
    "    else:\n",
    "        return -1\n",
    "\n",
    "\n",
    "@app.route('/getURL',methods=['GET','POST'])\n",
    "def getURL():\n",
    "    if(request.method=='POST'):\n",
    "        url=request.form['url']\n",
    "        data,rank,sl=Features_Extraction.generate_dataset(url)\n",
    "        rfmodel=pickle.load(open('rfmodel.pkl','rb'))\n",
    "        con_tent=Content_Based.content(url)\n",
    "        print(\"Rank:\",rank)\n",
    "        print(data)\n",
    "        prediction=rfmodel.predict([data])\n",
    "        print(\"ML:\",*prediction)\n",
    "        print(\"Content based:\",con_tent)\n",
    "        \n",
    "        ans=combine(prediction, con_tent, data)\n",
    "        if(ans==-1 or rank==-1):\n",
    "            d_entry=open('blacklist.txt','a')\n",
    "            d_entry.write(\"\\n\")\n",
    "            d_entry.write(url)\n",
    "            d_entry.close()\n",
    "            value=url+\"\"+\" is Phishing Website!!\"\n",
    "            return render_template(\"Phishing.html\",v=value)\n",
    "        else:\n",
    "            value=url+\"\"+\" is Legitimate Website!!\"\n",
    "            return render_template(\"Legitimate.html\",v=value)\n",
    "        \n",
    "@app.route('/Legitimate')\n",
    "def Legitimate():\n",
    "    return render_template('Legitimate.html')\n",
    "@app.route('/Phishing')\n",
    "def Phishing():\n",
    "    return render_template('Phishing.html')\n",
    "\n",
    "if __name__==\"__main__\":\n",
    "    app.run()\n",
    "    "
   ]
  },
  {
   "cell_type": "code",
   "execution_count": null,
   "metadata": {},
   "outputs": [],
   "source": []
  }
 ],
 "metadata": {
  "kernelspec": {
   "display_name": "Python 3",
   "language": "python",
   "name": "python3"
  },
  "language_info": {
   "codemirror_mode": {
    "name": "ipython",
    "version": 3
   },
   "file_extension": ".py",
   "mimetype": "text/x-python",
   "name": "python",
   "nbconvert_exporter": "python",
   "pygments_lexer": "ipython3",
   "version": "3.8.5"
  }
 },
 "nbformat": 4,
 "nbformat_minor": 2
}
