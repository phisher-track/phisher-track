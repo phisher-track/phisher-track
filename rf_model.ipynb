{
 "cells": [
  {
   "cell_type": "code",
   "execution_count": 3,
   "metadata": {
    "scrolled": false
   },
   "outputs": [
    {
     "name": "stdout",
     "output_type": "stream",
     "text": [
      "Index(['having_IP_Address', 'URL_Length', 'Shortining_Service',\n",
      "       'having_At_Symbol', 'double_slash_redirecting', 'Prefix_Suffix',\n",
      "       'having_Sub_Domain', 'SSLfinal_State', 'Domain_registeration_length',\n",
      "       'Favicon', 'port', 'HTTPS_token', 'Request_URL', 'URL_of_Anchor', 'SFH',\n",
      "       'Submitting_to_email', 'Abnormal_URL', 'Redirect', 'popUpWidnow',\n",
      "       'age_of_domain', 'DNSRecord', 'web_traffic', 'Links_pointing_to_page'],\n",
      "      dtype='object')\n"
     ]
    }
   ],
   "source": [
    "import numpy as np\n",
    "import pandas as pd\n",
    "import keras\n",
    "from keras import models\n",
    "from keras import metrics\n",
    "from sklearn.metrics import confusion_matrix\n",
    "from sklearn.model_selection import train_test_split\n",
    "from sklearn.metrics import classification_report\n",
    "from sklearn.metrics import accuracy_score\n",
    "from sklearn.metrics import confusion_matrix\n",
    "from sklearn.ensemble import RandomForestRegressor, RandomForestClassifier\n",
    "import pickle as pkl\n",
    "\n",
    "\n",
    "data = pd.read_csv('PhisingWebsite_datset.csv')\n",
    "\n",
    "\n",
    "\n",
    "def prepare_data(data):\n",
    "    y = data['Result']\n",
    "    x = data.drop([ 'Links_in_tags','Iframe','on_mouseover','RightClick','Page_Rank', 'Google_Index','Statistical_report','Result'],axis=1) \n",
    "    print(x.columns)\n",
    "    \n",
    "    x_train, x_test, y_train, y_test = train_test_split(x, y, test_size= 0.3, random_state=42)\n",
    "    return x_train, x_test, y_train, y_test\n",
    "\n",
    "\n",
    "x_train, x_test, y_train, y_test = prepare_data(data=data)\n",
    "\n",
    "\n",
    "forest = RandomForestClassifier(n_estimators=50)\n",
    "forest.fit(x_train,y_train)\n",
    "y_pred = forest.predict(x_test)\n",
    "#y_pred"
   ]
  },
  {
   "cell_type": "code",
   "execution_count": 4,
   "metadata": {
    "scrolled": false
   },
   "outputs": [
    {
     "name": "stdout",
     "output_type": "stream",
     "text": [
      "Overall accuracy of random forest model using test-set is : 95.779319\n"
     ]
    }
   ],
   "source": [
    "rf_acc = accuracy_score(y_true=y_test, y_pred= y_pred)\n",
    "print(\"Overall accuracy of random forest model using test-set is : %f\" %(rf_acc*100))\n",
    "\n",
    "rf_filename = 'rfmodel.pkl'\n",
    "pkl.dump(forest, open(rf_filename, 'wb')) "
   ]
  },
  {
   "cell_type": "code",
   "execution_count": null,
   "metadata": {},
   "outputs": [],
   "source": []
  }
 ],
 "metadata": {
  "kernelspec": {
   "display_name": "Python 3",
   "language": "python",
   "name": "python3"
  },
  "language_info": {
   "codemirror_mode": {
    "name": "ipython",
    "version": 3
   },
   "file_extension": ".py",
   "mimetype": "text/x-python",
   "name": "python",
   "nbconvert_exporter": "python",
   "pygments_lexer": "ipython3",
   "version": "3.8.5"
  }
 },
 "nbformat": 4,
 "nbformat_minor": 2
}
